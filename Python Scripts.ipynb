{
 "cells": [
  {
   "cell_type": "code",
   "execution_count": 1,
   "metadata": {
    "collapsed": false
   },
   "outputs": [
    {
     "name": "stdout",
     "output_type": "stream",
     "text": [
      "[['12224879', 'Interactive Dynamic Video', 'http://www.interactivedynamicvideo.com/', '386', '52', 'ne0phyte', '8/4/2016 11:52'], ['10975351', 'How to Use Open Source and Shut the Fuck Up at the Same Time', 'http://hueniverse.com/2016/01/26/how-to-use-open-source-and-shut-the-fuck-up-at-the-same-time/', '39', '10', 'josep2', '1/26/2016 19:30'], ['11964716', \"Florida DJs May Face Felony for April Fools' Water Joke\", 'http://www.thewire.com/entertainment/2013/04/florida-djs-april-fools-water-joke/63798/', '2', '1', 'vezycash', '6/23/2016 22:20'], ['11919867', 'Technology ventures: From Idea to Enterprise', 'https://www.amazon.com/Technology-Ventures-Enterprise-Thomas-Byers/dp/0073523429', '3', '1', 'hswarna', '6/17/2016 0:01'], ['10301696', 'Note by Note: The Making of Steinway L1037 (2007)', 'http://www.nytimes.com/2007/11/07/movies/07stein.html?_r=0', '8', '2', 'walterbell', '9/30/2015 4:12'], ['10482257', 'Title II kills investment? Comcast and other ISPs are now spending more', 'http://arstechnica.com/business/2015/10/comcast-and-other-isps-boost-network-investment-despite-net-neutrality/', '53', '22', 'Deinos', '10/31/2015 9:48'], ['10557283', 'Nuts and Bolts Business Advice', '', '3', '4', 'shomberj', '11/13/2015 0:45'], ['12296411', 'Ask HN: How to improve my personal website?', '', '2', '6', 'ahmedbaracat', '8/16/2016 9:55'], ['11337617', 'Shims, Jigs and Other Woodworking Concepts to Conquer Technical Debt', 'http://firstround.com/review/shims-jigs-and-other-woodworking-concepts-to-conquer-technical-debt/', '34', '7', 'zt', '3/22/2016 16:18'], ['10379326', 'That self-appendectomy', 'http://www.southpolestation.com/trivia/igy1/appendix.html', '91', '10', 'jimsojim', '10/13/2015 9:30'], ['11370829', 'Crate raises $4M seed round for its next-gen SQL database', 'http://techcrunch.com/2016/03/15/crate-raises-4m-seed-round-for-its-next-gen-sql-database/', '3', '1', 'hitekker', '3/27/2016 18:08'], ['11665197', 'Advertising Cannot Maintain the Internet. Heres the Secret Sauce Solution', 'http://evonomics.com/advertising-cannot-maintain-internet-heres-solution/', '2', '1', 'dredmorbius', '5/10/2016 4:46'], ['11981466', 'Coding Is Over', 'https://medium.com/@loorinm/coding-is-over-6d653abe8da8', '18', '14', 'prostoalex', '6/26/2016 16:36'], ['10627194', 'Show HN: Wio Link  ESP8266 Based Web of Things Hardware Development Platform', 'https://iot.seeed.cc', '26', '22', 'kfihihc', '11/25/2015 14:03'], ['11587596', 'Custom Deleters for C++ Smart Pointers', 'http://www.bfilipek.com/2016/04/custom-deleters-for-c-smart-pointers.html', '59', '18', 'ingve', '4/28/2016 10:01'], ['12335860', 'How often to update third party libraries?', '', '7', '5', 'rabid_oxen', '8/22/2016 12:37'], ['11403750', 'Review my AI based marketing bot', 'http://beta.crowdfireapp.com/?beta=agnipath', '1', '2', 'abhishekmaddy', '4/1/2016 9:45'], ['10610020', 'Ask HN: Am I the only one outraged by Twitter shutting down share counts?', '', '28', '29', 'tkfx', '11/22/2015 13:43'], ['10837634', \"Ten years later, did Boston's Big Dig deliver?\", 'https://www.bostonglobe.com/magazine/2015/12/29/years-later-did-big-dig-deliver/tSb8PIMS4QJUETsMpA7SpI/story.html', '109', '116', 'jseliger', '1/4/2016 18:58'], ['12121216', 'Valid.ly  Never send another OOPS message', 'https://www.valid.ly', '1', '1', 'validly', '7/19/2016 12:05']]\n"
     ]
    }
   ],
   "source": [
    "from csv import reader\n",
    "open_file=open(\"hacker_news.csv\")\n",
    "read_file=reader(open_file)\n",
    "hn=list(read_file)\n",
    "\n",
    "#removing headers\n",
    "hn=hn[1:]\n",
    "print(hn[:20])"
   ]
  },
  {
   "cell_type": "code",
   "execution_count": 2,
   "metadata": {
    "collapsed": false
   },
   "outputs": [
    {
     "name": "stdout",
     "output_type": "stream",
     "text": [
      "1744\n",
      "1162\n",
      "17194\n"
     ]
    }
   ],
   "source": [
    "ask_posts=[]\n",
    "show_posts=[]\n",
    "other_posts=[]\n",
    "for row in hn:\n",
    "    string=row[1]\n",
    "    if (string.lower()).startswith(\"ask hn\"):\n",
    "        ask_posts.append(string)\n",
    "    elif (string.lower()).startswith(\"show hn\"):\n",
    "        show_posts.append(string)\n",
    "    else:\n",
    "        other_posts.append(string)\n",
    "        \n",
    "#Printing the number of ask_posts, show_posts, and other_posts\n",
    "print(len(ask_posts))\n",
    "print(len(show_posts))\n",
    "print(len(other_posts))"
   ]
  },
  {
   "cell_type": "code",
   "execution_count": 3,
   "metadata": {
    "collapsed": false
   },
   "outputs": [
    {
     "name": "stdout",
     "output_type": "stream",
     "text": [
      "14.038417431192661\n",
      "10.31669535283993\n"
     ]
    }
   ],
   "source": [
    "total_ask_comments=0\n",
    "total_show_comments=0\n",
    "for row in hn:\n",
    "    string=row[1]\n",
    "    if (string.lower()).startswith(\"ask hn\"):\n",
    "        num1=int(row[4])\n",
    "        total_ask_comments+=num1\n",
    "    elif (string.lower()).startswith(\"show hn\"):\n",
    "        num2=int(row[4])\n",
    "        total_show_comments+=num2\n",
    "avg_ask_comments=total_ask_comments/len(ask_posts)\n",
    "avg_show_comments=total_show_comments/len(show_posts)\n",
    "print(avg_ask_comments)\n",
    "print(avg_show_comments)"
   ]
  },
  {
   "cell_type": "code",
   "execution_count": 4,
   "metadata": {
    "collapsed": false
   },
   "outputs": [
    {
     "name": "stdout",
     "output_type": "stream",
     "text": [
      "{'14': 1416, '11': 641, '23': 543, '16': 1814, '03': 421, '05': 464, '13': 1253, '02': 1381, '10': 793, '04': 337, '19': 1188, '01': 683, '06': 397, '09': 251, '00': 447, '21': 1745, '17': 1146, '15': 4477, '07': 267, '08': 492, '12': 687, '20': 1722, '22': 479, '18': 1439}\n"
     ]
    }
   ],
   "source": [
    "import datetime as dt\n",
    "result_list=[]\n",
    "for row in hn:\n",
    "    string=row[1]\n",
    "    if (string.lower()).startswith(\"ask hn\"):\n",
    "        list_app=[row[6],int(row[4])]\n",
    "        result_list.append(list_app)\n",
    "counts_by_hour={}\n",
    "comments_by_hour={}\n",
    "for row in result_list:\n",
    "    date_Dt=dt.datetime.strptime(str(row[0]),\"%m/%d/%Y %H:%M\")\n",
    "    hour=date_Dt.strftime(\"%H\")\n",
    "    if hour in counts_by_hour:\n",
    "        counts_by_hour[hour]+=1\n",
    "        comments_by_hour[hour]+=row[1]\n",
    "    else:\n",
    "        counts_by_hour[hour]=1\n",
    "        comments_by_hour[hour]=row[1]\n",
    "print(comments_by_hour)\n"
   ]
  },
  {
   "cell_type": "code",
   "execution_count": 5,
   "metadata": {
    "collapsed": false
   },
   "outputs": [
    {
     "name": "stdout",
     "output_type": "stream",
     "text": [
      "[['14', 13.233644859813085], ['11', 11.051724137931034], ['23', 7.985294117647059], ['16', 16.796296296296298], ['03', 7.796296296296297], ['05', 10.08695652173913], ['13', 14.741176470588234], ['02', 23.810344827586206], ['10', 13.440677966101696], ['04', 7.170212765957447], ['19', 10.8], ['01', 11.383333333333333], ['06', 9.022727272727273], ['09', 5.5777777777777775], ['00', 8.127272727272727], ['21', 16.009174311926607], ['17', 11.46], ['15', 38.5948275862069], ['07', 7.852941176470588], ['08', 10.25], ['12', 9.41095890410959], ['20', 21.525], ['22', 6.746478873239437], ['18', 13.20183486238532]]\n"
     ]
    }
   ],
   "source": [
    "avg_by_hour=[]\n",
    "\n",
    "for each in comments_by_hour:\n",
    "    avg_by_hour.append([each,comments_by_hour[each]/counts_by_hour[each]])\n",
    "print(avg_by_hour)"
   ]
  },
  {
   "cell_type": "code",
   "execution_count": 6,
   "metadata": {
    "collapsed": false
   },
   "outputs": [
    {
     "name": "stdout",
     "output_type": "stream",
     "text": [
      "[[13.233644859813085, '14'], [11.051724137931034, '11'], [7.985294117647059, '23'], [16.796296296296298, '16'], [7.796296296296297, '03'], [10.08695652173913, '05'], [14.741176470588234, '13'], [23.810344827586206, '02'], [13.440677966101696, '10'], [7.170212765957447, '04'], [10.8, '19'], [11.383333333333333, '01'], [9.022727272727273, '06'], [5.5777777777777775, '09'], [8.127272727272727, '00'], [16.009174311926607, '21'], [11.46, '17'], [38.5948275862069, '15'], [7.852941176470588, '07'], [10.25, '08'], [9.41095890410959, '12'], [21.525, '20'], [6.746478873239437, '22'], [13.20183486238532, '18']]\n",
      "[[38.5948275862069, '15'], [23.810344827586206, '02'], [21.525, '20'], [16.796296296296298, '16'], [16.009174311926607, '21'], [14.741176470588234, '13'], [13.440677966101696, '10'], [13.233644859813085, '14'], [13.20183486238532, '18'], [11.46, '17'], [11.383333333333333, '01'], [11.051724137931034, '11'], [10.8, '19'], [10.25, '08'], [10.08695652173913, '05'], [9.41095890410959, '12'], [9.022727272727273, '06'], [8.127272727272727, '00'], [7.985294117647059, '23'], [7.852941176470588, '07'], [7.796296296296297, '03'], [7.170212765957447, '04'], [6.746478873239437, '22'], [5.5777777777777775, '09']]\n",
      "Top 5 Hours for Ask Posts Comments\n",
      "15:00 38.5948275862069 average comments per post\n",
      "02:00 23.810344827586206 average comments per post\n",
      "20:00 21.525 average comments per post\n",
      "16:00 16.796296296296298 average comments per post\n",
      "21:00 16.009174311926607 average comments per post\n"
     ]
    }
   ],
   "source": [
    "swap_avg_by_hour=[]\n",
    "for row in avg_by_hour:\n",
    "    swap_avg_by_hour.append([row[1],row[0]])\n",
    "print(swap_avg_by_hour)\n",
    "sorted_swap=sorted(swap_avg_by_hour,reverse=True)\n",
    "print(sorted_swap)\n",
    "\n",
    "print(\"Top 5 Hours for Ask Posts Comments\")\n",
    "for avg,hour in sorted_swap[:5]:\n",
    "    print(\"{}:00 {} average comments per post\".format(hour,avg))"
   ]
  },
  {
   "cell_type": "code",
   "execution_count": null,
   "metadata": {
    "collapsed": true
   },
   "outputs": [],
   "source": []
  }
 ],
 "metadata": {
  "kernelspec": {
   "display_name": "Python 3",
   "language": "python",
   "name": "python3"
  },
  "language_info": {
   "codemirror_mode": {
    "name": "ipython",
    "version": 3
   },
   "file_extension": ".py",
   "mimetype": "text/x-python",
   "name": "python",
   "nbconvert_exporter": "python",
   "pygments_lexer": "ipython3",
   "version": "3.4.3"
  }
 },
 "nbformat": 4,
 "nbformat_minor": 2
}
